{
 "nbformat": 4,
 "nbformat_minor": 0,
 "metadata": {
  "colab": {
   "name": "Mega_Case_Study.ipynb",
   "provenance": [],
   "collapsed_sections": []
  },
  "kernelspec": {
   "name": "python3",
   "display_name": "Python 3"
  }
 },
 "cells": [
  {
   "cell_type": "markdown",
   "metadata": {
    "id": "GJYk9gRO_W9P"
   },
   "source": [
    "#Mega Case Study - Making a hybrid Deep Learning Model"
   ]
  },
  {
   "cell_type": "markdown",
   "metadata": {
    "id": "D8PA8C_X_fHe"
   },
   "source": [
    "#Part 1 - SOM"
   ]
  },
  {
   "cell_type": "markdown",
   "metadata": {
    "id": "48btSZ8cAAVt"
   },
   "source": [
    "##Install MiniSom Package"
   ]
  },
  {
   "cell_type": "code",
   "metadata": {
    "id": "5ueD5zlVAAVu"
   },
   "source": [
    "!pip install MiniSom"
   ],
   "execution_count": 1,
   "outputs": [
    {
     "name": "stdout",
     "output_type": "stream",
     "text": [
      "Defaulting to user installation because normal site-packages is not writeable\n",
      "Requirement already satisfied: MiniSom in c:\\users\\berry\\appdata\\roaming\\python\\python310\\site-packages (2.3.0)\n"
     ]
    }
   ]
  },
  {
   "cell_type": "markdown",
   "metadata": {
    "id": "y2L7M7QLAAVx"
   },
   "source": [
    "## Importing the libraries\n"
   ]
  },
  {
   "cell_type": "code",
   "metadata": {
    "id": "zy0_GMcbAAVx"
   },
   "source": [
    "import numpy as np\n",
    "import pandas as pd\n",
    "import matplotlib.pyplot as plt"
   ],
   "execution_count": 2,
   "outputs": []
  },
  {
   "cell_type": "markdown",
   "metadata": {
    "id": "M74YAQUJAAVz"
   },
   "source": [
    "## Importing the dataset"
   ]
  },
  {
   "cell_type": "code",
   "metadata": {
    "id": "oP387iJvAAV0"
   },
   "source": [
    "dataset = pd.read_csv('Credit_Card_Applications.csv')\n",
    "X = dataset.iloc[:, :-1].values \n",
    "y = dataset.iloc[:, -1].values"
   ],
   "execution_count": 3,
   "outputs": []
  },
  {
   "cell_type": "markdown",
   "metadata": {
    "id": "xaNRHZwYAAV2"
   },
   "source": [
    "## Feature Scaling\n"
   ]
  },
  {
   "cell_type": "code",
   "metadata": {
    "id": "57QK6WXTAAV3"
   },
   "source": [
    "from sklearn.preprocessing import MinMaxScaler\n",
    "sc = MinMaxScaler(feature_range = (0,1))\n",
    "X = sc.fit_transform(X)"
   ],
   "execution_count": 4,
   "outputs": []
  },
  {
   "cell_type": "markdown",
   "metadata": {
    "id": "WyD5sEHYAAV5"
   },
   "source": [
    "##Training the SOM\n"
   ]
  },
  {
   "cell_type": "code",
   "metadata": {
    "id": "-BXn8YphAAV6"
   },
   "source": [
    "from minisom import MiniSom\n",
    "som = MiniSom(x=10, y=10, input_len= 15, sigma= 1.0, learning_rate = 0.5)\n",
    "som.random_weights_init(X)\n",
    "som.train_random(data = X, num_iteration = 100)"
   ],
   "execution_count": 5,
   "outputs": []
  },
  {
   "cell_type": "markdown",
   "metadata": {
    "id": "d9qf8w7sAAV8"
   },
   "source": [
    "##Visualizing the results\n"
   ]
  },
  {
   "cell_type": "code",
   "metadata": {
    "id": "cshl06SmAAV8"
   },
   "source": [
    "from pylab import bone, pcolor, colorbar, plot, show\n",
    "bone()\n",
    "pcolor(som.distance_map().T)\n",
    "colorbar()\n",
    "markers = ['o', 's']\n",
    "colors = ['r', 'g']\n",
    "for i, x in enumerate(X):\n",
    "    w = som.winner(x)\n",
    "    plot(w[0] + 0.5,\n",
    "         w[1] + 0.5,\n",
    "         markers[y[i]],\n",
    "         markeredgecolor = colors[y[i]],\n",
    "         markerfacecolor = 'None',\n",
    "         markersize = 10,\n",
    "         markeredgewidth = 2)\n",
    "show()"
   ],
   "execution_count": 6,
   "outputs": [
    {
     "data": {
      "text/plain": "<Figure size 432x288 with 2 Axes>",
      "image/png": "[encoded data removed]"
     },
     "metadata": {
      "needs_background": "light"
     },
     "output_type": "display_data"
    }
   ]
  },
  {
   "cell_type": "markdown",
   "metadata": {
    "id": "gijZkcIGAAWA"
   },
   "source": [
    "## Finding the frauds\n"
   ]
  },
  {
   "cell_type": "code",
   "metadata": {
    "id": "EJIH9sDvAAWA"
   },
   "source": [
    "mappings = som.win_map(X)\n",
    "frauds = np.concatenate((mappings[(6,8)], mappings[(5,1)]), axis = 0)\n",
    "frauds = sc.inverse_transform(frauds)"
   ],
   "execution_count": 7,
   "outputs": []
  },
  {
   "cell_type": "markdown",
   "metadata": {
    "id": "EOVO2DzCAAWD"
   },
   "source": [
    "##Printing the Fraunch Clients"
   ]
  },
  {
   "cell_type": "code",
   "metadata": {
    "id": "IjotUwR3AAWD"
   },
   "source": [
    "print('Fraud Customer IDs')\n",
    "for i in frauds[:, 0]:\n",
    "  print(int(i))"
   ],
   "execution_count": 8,
   "outputs": [
    {
     "name": "stdout",
     "output_type": "stream",
     "text": [
      "Fraud Customer IDs\n",
      "15662854\n",
      "15568162\n",
      "15638983\n",
      "15662152\n",
      "15623210\n",
      "15570508\n",
      "15603565\n",
      "15664720\n",
      "15627328\n",
      "15617991\n",
      "15696120\n",
      "15567919\n",
      "15687634\n",
      "15638751\n",
      "15606554\n",
      "15644446\n",
      "15674750\n"
     ]
    }
   ]
  },
  {
   "cell_type": "markdown",
   "metadata": {
    "id": "-9oatjNmAC8i"
   },
   "source": [
    "#Part 2 - Going from Unsupervised to Supervised Deep Learning"
   ]
  },
  {
   "cell_type": "markdown",
   "metadata": {
    "id": "eDv-ecVtAtwU"
   },
   "source": [
    "##Create Matrix of Features"
   ]
  },
  {
   "cell_type": "code",
   "metadata": {
    "id": "h3ADq7HsA3Sh"
   },
   "source": [
    "customers = dataset.iloc[:, 1:].values"
   ],
   "execution_count": 9,
   "outputs": []
  },
  {
   "cell_type": "markdown",
   "metadata": {
    "id": "ycrQvNAvBAng"
   },
   "source": [
    "## Create Dependent Variable"
   ]
  },
  {
   "cell_type": "code",
   "metadata": {
    "id": "Dt1TQG3NBFDM"
   },
   "source": [
    "is_fraud = np.zeros(len(dataset))\n",
    "for i in range(len(dataset)):\n",
    "  if dataset.iloc[i,0] in frauds:\n",
    "    is_fraud[i] = 1"
   ],
   "execution_count": 10,
   "outputs": []
  },
  {
   "cell_type": "markdown",
   "metadata": {
    "id": "OgQBLi0iBsji"
   },
   "source": [
    "#Part 3 - ANN"
   ]
  },
  {
   "cell_type": "markdown",
   "metadata": {
    "id": "RE_FcHyfV3TQ"
   },
   "source": [
    "### Feature Scaling"
   ]
  },
  {
   "cell_type": "code",
   "metadata": {
    "id": "ViCrE00rV8Sk"
   },
   "source": [
    "from sklearn.preprocessing import StandardScaler\n",
    "sc = StandardScaler()\n",
    "customers = sc.fit_transform(customers)"
   ],
   "execution_count": 11,
   "outputs": []
  },
  {
   "cell_type": "markdown",
   "metadata": {
    "id": "-zfEzkRVXIwF"
   },
   "source": [
    "## Building the ANN"
   ]
  },
  {
   "cell_type": "markdown",
   "metadata": {
    "id": "S5-uTVVvCcTf"
   },
   "source": [
    "##Import Tensorflow"
   ]
  },
  {
   "cell_type": "code",
   "metadata": {
    "id": "veBa6HoECbZI"
   },
   "source": [
    "import tensorflow as tf\n",
    "tf.__version__"
   ],
   "execution_count": 12,
   "outputs": [
    {
     "data": {
      "text/plain": "'2.8.0'"
     },
     "execution_count": 12,
     "metadata": {},
     "output_type": "execute_result"
    }
   ]
  },
  {
   "cell_type": "markdown",
   "metadata": {
    "id": "KvdeScabXtlB"
   },
   "source": [
    "## Initializing the ANN"
   ]
  },
  {
   "cell_type": "code",
   "metadata": {
    "id": "3dtrScHxXQox"
   },
   "source": [
    "ann = tf.keras.models.Sequential()"
   ],
   "execution_count": 13,
   "outputs": []
  },
  {
   "cell_type": "markdown",
   "metadata": {
    "id": "rP6urV6SX7kS"
   },
   "source": [
    "##Adding the input layer and the first hidden layer"
   ]
  },
  {
   "cell_type": "code",
   "metadata": {
    "id": "bppGycBXYCQr"
   },
   "source": [
    "ann.add(tf.keras.layers.Dense(units=2, activation='relu'))"
   ],
   "execution_count": 14,
   "outputs": []
  },
  {
   "cell_type": "markdown",
   "metadata": {
    "id": "OyNEe6RXYcU4"
   },
   "source": [
    "## Adding the output layer"
   ]
  },
  {
   "cell_type": "code",
   "metadata": {
    "id": "Cn3x41RBYfvY"
   },
   "source": [
    "ann.add(tf.keras.layers.Dense(units=1, activation='sigmoid'))"
   ],
   "execution_count": 15,
   "outputs": []
  },
  {
   "cell_type": "markdown",
   "metadata": {
    "id": "JT4u2S1_Y4WG"
   },
   "source": [
    "## Training the ANN"
   ]
  },
  {
   "cell_type": "markdown",
   "metadata": {
    "id": "8GWlJChhY_ZI"
   },
   "source": [
    "## Compiling the ANN"
   ]
  },
  {
   "cell_type": "code",
   "metadata": {
    "id": "fG3RrwDXZEaS"
   },
   "source": [
    "ann.compile(optimizer = 'adam', loss = 'binary_crossentropy', metrics = ['accuracy'])"
   ],
   "execution_count": 16,
   "outputs": []
  },
  {
   "cell_type": "markdown",
   "metadata": {
    "id": "0QR_G5u7ZLSM"
   },
   "source": [
    "## Training the ANN on the Training set"
   ]
  },
  {
   "cell_type": "code",
   "metadata": {
    "id": "nHZ-LKv_ZRb3"
   },
   "source": [
    "ann.fit(customers, is_fraud, batch_size = 1, epochs = 10)"
   ],
   "execution_count": 17,
   "outputs": [
    {
     "name": "stdout",
     "output_type": "stream",
     "text": [
      "Epoch 1/10\n",
      "690/690 [==============================] - 1s 578us/step - loss: 0.3884 - accuracy: 0.9754\n",
      "Epoch 2/10\n",
      "690/690 [==============================] - 0s 620us/step - loss: 0.2211 - accuracy: 0.9754\n",
      "Epoch 3/10\n",
      "690/690 [==============================] - 0s 551us/step - loss: 0.1557 - accuracy: 0.9754\n",
      "Epoch 4/10\n",
      "690/690 [==============================] - 0s 581us/step - loss: 0.1222 - accuracy: 0.9754\n",
      "Epoch 5/10\n",
      "690/690 [==============================] - 0s 573us/step - loss: 0.1032 - accuracy: 0.9754\n",
      "Epoch 6/10\n",
      "690/690 [==============================] - 0s 560us/step - loss: 0.0920 - accuracy: 0.9754\n",
      "Epoch 7/10\n",
      "690/690 [==============================] - 0s 562us/step - loss: 0.0843 - accuracy: 0.9754\n",
      "Epoch 8/10\n",
      "690/690 [==============================] - 0s 594us/step - loss: 0.0777 - accuracy: 0.9754\n",
      "Epoch 9/10\n",
      "690/690 [==============================] - 0s 569us/step - loss: 0.0727 - accuracy: 0.9754\n",
      "Epoch 10/10\n",
      "690/690 [==============================] - 0s 604us/step - loss: 0.0693 - accuracy: 0.9754\n"
     ]
    },
    {
     "data": {
      "text/plain": "<keras.callbacks.History at 0x22b0a47c100>"
     },
     "execution_count": 17,
     "metadata": {},
     "output_type": "execute_result"
    }
   ]
  },
  {
   "cell_type": "markdown",
   "metadata": {
    "id": "tJj5k2MxZga3"
   },
   "source": [
    "# Predicting test set results"
   ]
  },
  {
   "cell_type": "code",
   "metadata": {
    "id": "nIyEeQdRZwgs"
   },
   "source": [
    "y_pred = ann.predict(customers)\n",
    "y_pred = np.concatenate((dataset.iloc[:, 0:1].values, y_pred), axis = 1)\n",
    "y_pred = y_pred[y_pred[:, 1].argsort()]"
   ],
   "execution_count": 18,
   "outputs": []
  },
  {
   "cell_type": "code",
   "metadata": {
    "id": "fX2iDXYiD-sN"
   },
   "source": [
    "print(y_pred)"
   ],
   "execution_count": 19,
   "outputs": [
    {
     "name": "stdout",
     "output_type": "stream",
     "text": [
      "[[1.57997850e+07 3.84283112e-06]\n",
      " [1.57901130e+07 6.84221686e-06]\n",
      " [1.56214230e+07 1.66615155e-05]\n",
      " ...\n",
      " [1.56389830e+07 2.28963137e-01]\n",
      " [1.58005540e+07 2.28963137e-01]\n",
      " [1.55679190e+07 2.28963137e-01]]\n"
     ]
    }
   ]
  }
 ]
}