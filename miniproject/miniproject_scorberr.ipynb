{
 "cells": [
  {
   "cell_type": "markdown",
   "source": [
    "Mini Project - Scorberr - Scott Berry"
   ],
   "metadata": {
    "collapsed": false,
    "pycharm": {
     "name": "#%% md\n"
    }
   }
  },
  {
   "cell_type": "markdown",
   "source": [
    "Import dependencies"
   ],
   "metadata": {
    "collapsed": false,
    "pycharm": {
     "name": "#%% md\n"
    }
   }
  },
  {
   "cell_type": "code",
   "execution_count": 1,
   "outputs": [],
   "source": [
    "import numpy as np\n",
    "import openpyxl\n",
    "import pandas as pd\n",
    "from matplotlib import pyplot as plt\n",
    "import warnings\n",
    "warnings.simplefilter(action='ignore', category=FutureWarning)"
   ],
   "metadata": {
    "collapsed": false,
    "pycharm": {
     "name": "#%%\n"
    }
   }
  },
  {
   "cell_type": "markdown",
   "source": [
    "Add Excel Workbook to Pandas DF function"
   ],
   "metadata": {
    "collapsed": false,
    "pycharm": {
     "name": "#%% md\n"
    }
   }
  },
  {
   "cell_type": "code",
   "execution_count": 2,
   "outputs": [],
   "source": [
    "def workbook2df(path, first_row_header, first_column_index):\n",
    "    workbook = openpyxl.load_workbook(path).active\n",
    "    rows = list(workbook.iter_rows(values_only=True))\n",
    "    df = pd.DataFrame(rows)\n",
    "    if first_row_header:\n",
    "        new_header = df.iloc[0]\n",
    "        df = df[1:]\n",
    "        df.columns = new_header\n",
    "    if first_column_index:\n",
    "        df = df.set_index(\"SL\")\n",
    "    return df"
   ],
   "metadata": {
    "collapsed": false,
    "pycharm": {
     "name": "#%%\n"
    }
   }
  },
  {
   "cell_type": "markdown",
   "source": [
    "Import Data"
   ],
   "metadata": {
    "collapsed": false,
    "pycharm": {
     "name": "#%% md\n"
    }
   }
  },
  {
   "cell_type": "code",
   "execution_count": 3,
   "outputs": [
    {
     "ename": "FileNotFoundError",
     "evalue": "[Errno 2] No such file or directory: 'data/gamesToWin.xlsx'",
     "output_type": "error",
     "traceback": [
      "\u001B[1;31m---------------------------------------------------------------------------\u001B[0m",
      "\u001B[1;31mFileNotFoundError\u001B[0m                         Traceback (most recent call last)",
      "Input \u001B[1;32mIn [3]\u001B[0m, in \u001B[0;36m<cell line: 1>\u001B[1;34m()\u001B[0m\n\u001B[1;32m----> 1\u001B[0m games_to_win \u001B[38;5;241m=\u001B[39m \u001B[43mworkbook2df\u001B[49m\u001B[43m(\u001B[49m\u001B[38;5;124;43m\"\u001B[39;49m\u001B[38;5;124;43mdata/gamesToWin.xlsx\u001B[39;49m\u001B[38;5;124;43m\"\u001B[39;49m\u001B[43m,\u001B[49m\u001B[43m \u001B[49m\u001B[38;5;28;43;01mTrue\u001B[39;49;00m\u001B[43m,\u001B[49m\u001B[43m \u001B[49m\u001B[38;5;28;43;01mTrue\u001B[39;49;00m\u001B[43m)\u001B[49m\n\u001B[0;32m      2\u001B[0m sl_matchup_data \u001B[38;5;241m=\u001B[39m workbook2df(\u001B[38;5;124m\"\u001B[39m\u001B[38;5;124mdata/slmatchups/SLMatchups.xlsx\u001B[39m\u001B[38;5;124m\"\u001B[39m, \u001B[38;5;28;01mTrue\u001B[39;00m, \u001B[38;5;28;01mFalse\u001B[39;00m)\n",
      "Input \u001B[1;32mIn [2]\u001B[0m, in \u001B[0;36mworkbook2df\u001B[1;34m(path, first_row_header, first_column_index)\u001B[0m\n\u001B[0;32m      1\u001B[0m \u001B[38;5;28;01mdef\u001B[39;00m \u001B[38;5;21mworkbook2df\u001B[39m(path, first_row_header, first_column_index):\n\u001B[1;32m----> 2\u001B[0m     workbook \u001B[38;5;241m=\u001B[39m \u001B[43mopenpyxl\u001B[49m\u001B[38;5;241;43m.\u001B[39;49m\u001B[43mload_workbook\u001B[49m\u001B[43m(\u001B[49m\u001B[43mpath\u001B[49m\u001B[43m)\u001B[49m\u001B[38;5;241m.\u001B[39mactive\n\u001B[0;32m      3\u001B[0m     rows \u001B[38;5;241m=\u001B[39m \u001B[38;5;28mlist\u001B[39m(workbook\u001B[38;5;241m.\u001B[39miter_rows(values_only\u001B[38;5;241m=\u001B[39m\u001B[38;5;28;01mTrue\u001B[39;00m))\n\u001B[0;32m      4\u001B[0m     df \u001B[38;5;241m=\u001B[39m pd\u001B[38;5;241m.\u001B[39mDataFrame(rows)\n",
      "File \u001B[1;32mC:\\Python310\\lib\\site-packages\\openpyxl\\reader\\excel.py:315\u001B[0m, in \u001B[0;36mload_workbook\u001B[1;34m(filename, read_only, keep_vba, data_only, keep_links)\u001B[0m\n\u001B[0;32m    288\u001B[0m \u001B[38;5;28;01mdef\u001B[39;00m \u001B[38;5;21mload_workbook\u001B[39m(filename, read_only\u001B[38;5;241m=\u001B[39m\u001B[38;5;28;01mFalse\u001B[39;00m, keep_vba\u001B[38;5;241m=\u001B[39mKEEP_VBA,\n\u001B[0;32m    289\u001B[0m                   data_only\u001B[38;5;241m=\u001B[39m\u001B[38;5;28;01mFalse\u001B[39;00m, keep_links\u001B[38;5;241m=\u001B[39m\u001B[38;5;28;01mTrue\u001B[39;00m):\n\u001B[0;32m    290\u001B[0m     \u001B[38;5;124;03m\"\"\"Open the given filename and return the workbook\u001B[39;00m\n\u001B[0;32m    291\u001B[0m \n\u001B[0;32m    292\u001B[0m \u001B[38;5;124;03m    :param filename: the path to open or a file-like object\u001B[39;00m\n\u001B[1;32m   (...)\u001B[0m\n\u001B[0;32m    313\u001B[0m \n\u001B[0;32m    314\u001B[0m \u001B[38;5;124;03m    \"\"\"\u001B[39;00m\n\u001B[1;32m--> 315\u001B[0m     reader \u001B[38;5;241m=\u001B[39m \u001B[43mExcelReader\u001B[49m\u001B[43m(\u001B[49m\u001B[43mfilename\u001B[49m\u001B[43m,\u001B[49m\u001B[43m \u001B[49m\u001B[43mread_only\u001B[49m\u001B[43m,\u001B[49m\u001B[43m \u001B[49m\u001B[43mkeep_vba\u001B[49m\u001B[43m,\u001B[49m\n\u001B[0;32m    316\u001B[0m \u001B[43m                        \u001B[49m\u001B[43mdata_only\u001B[49m\u001B[43m,\u001B[49m\u001B[43m \u001B[49m\u001B[43mkeep_links\u001B[49m\u001B[43m)\u001B[49m\n\u001B[0;32m    317\u001B[0m     reader\u001B[38;5;241m.\u001B[39mread()\n\u001B[0;32m    318\u001B[0m     \u001B[38;5;28;01mreturn\u001B[39;00m reader\u001B[38;5;241m.\u001B[39mwb\n",
      "File \u001B[1;32mC:\\Python310\\lib\\site-packages\\openpyxl\\reader\\excel.py:124\u001B[0m, in \u001B[0;36mExcelReader.__init__\u001B[1;34m(self, fn, read_only, keep_vba, data_only, keep_links)\u001B[0m\n\u001B[0;32m    122\u001B[0m \u001B[38;5;28;01mdef\u001B[39;00m \u001B[38;5;21m__init__\u001B[39m(\u001B[38;5;28mself\u001B[39m,  fn, read_only\u001B[38;5;241m=\u001B[39m\u001B[38;5;28;01mFalse\u001B[39;00m, keep_vba\u001B[38;5;241m=\u001B[39mKEEP_VBA,\n\u001B[0;32m    123\u001B[0m               data_only\u001B[38;5;241m=\u001B[39m\u001B[38;5;28;01mFalse\u001B[39;00m, keep_links\u001B[38;5;241m=\u001B[39m\u001B[38;5;28;01mTrue\u001B[39;00m):\n\u001B[1;32m--> 124\u001B[0m     \u001B[38;5;28mself\u001B[39m\u001B[38;5;241m.\u001B[39marchive \u001B[38;5;241m=\u001B[39m \u001B[43m_validate_archive\u001B[49m\u001B[43m(\u001B[49m\u001B[43mfn\u001B[49m\u001B[43m)\u001B[49m\n\u001B[0;32m    125\u001B[0m     \u001B[38;5;28mself\u001B[39m\u001B[38;5;241m.\u001B[39mvalid_files \u001B[38;5;241m=\u001B[39m \u001B[38;5;28mself\u001B[39m\u001B[38;5;241m.\u001B[39marchive\u001B[38;5;241m.\u001B[39mnamelist()\n\u001B[0;32m    126\u001B[0m     \u001B[38;5;28mself\u001B[39m\u001B[38;5;241m.\u001B[39mread_only \u001B[38;5;241m=\u001B[39m read_only\n",
      "File \u001B[1;32mC:\\Python310\\lib\\site-packages\\openpyxl\\reader\\excel.py:96\u001B[0m, in \u001B[0;36m_validate_archive\u001B[1;34m(filename)\u001B[0m\n\u001B[0;32m     89\u001B[0m             msg \u001B[38;5;241m=\u001B[39m (\u001B[38;5;124m'\u001B[39m\u001B[38;5;124mopenpyxl does not support \u001B[39m\u001B[38;5;132;01m%s\u001B[39;00m\u001B[38;5;124m file format, \u001B[39m\u001B[38;5;124m'\u001B[39m\n\u001B[0;32m     90\u001B[0m                    \u001B[38;5;124m'\u001B[39m\u001B[38;5;124mplease check you can open \u001B[39m\u001B[38;5;124m'\u001B[39m\n\u001B[0;32m     91\u001B[0m                    \u001B[38;5;124m'\u001B[39m\u001B[38;5;124mit with Excel first. \u001B[39m\u001B[38;5;124m'\u001B[39m\n\u001B[0;32m     92\u001B[0m                    \u001B[38;5;124m'\u001B[39m\u001B[38;5;124mSupported formats are: \u001B[39m\u001B[38;5;132;01m%s\u001B[39;00m\u001B[38;5;124m'\u001B[39m) \u001B[38;5;241m%\u001B[39m (file_format,\n\u001B[0;32m     93\u001B[0m                                                    \u001B[38;5;124m'\u001B[39m\u001B[38;5;124m,\u001B[39m\u001B[38;5;124m'\u001B[39m\u001B[38;5;241m.\u001B[39mjoin(SUPPORTED_FORMATS))\n\u001B[0;32m     94\u001B[0m         \u001B[38;5;28;01mraise\u001B[39;00m InvalidFileException(msg)\n\u001B[1;32m---> 96\u001B[0m archive \u001B[38;5;241m=\u001B[39m \u001B[43mZipFile\u001B[49m\u001B[43m(\u001B[49m\u001B[43mfilename\u001B[49m\u001B[43m,\u001B[49m\u001B[43m \u001B[49m\u001B[38;5;124;43m'\u001B[39;49m\u001B[38;5;124;43mr\u001B[39;49m\u001B[38;5;124;43m'\u001B[39;49m\u001B[43m)\u001B[49m\n\u001B[0;32m     97\u001B[0m \u001B[38;5;28;01mreturn\u001B[39;00m archive\n",
      "File \u001B[1;32mC:\\Python310\\lib\\zipfile.py:1249\u001B[0m, in \u001B[0;36mZipFile.__init__\u001B[1;34m(self, file, mode, compression, allowZip64, compresslevel, strict_timestamps)\u001B[0m\n\u001B[0;32m   1247\u001B[0m \u001B[38;5;28;01mwhile\u001B[39;00m \u001B[38;5;28;01mTrue\u001B[39;00m:\n\u001B[0;32m   1248\u001B[0m     \u001B[38;5;28;01mtry\u001B[39;00m:\n\u001B[1;32m-> 1249\u001B[0m         \u001B[38;5;28mself\u001B[39m\u001B[38;5;241m.\u001B[39mfp \u001B[38;5;241m=\u001B[39m \u001B[43mio\u001B[49m\u001B[38;5;241;43m.\u001B[39;49m\u001B[43mopen\u001B[49m\u001B[43m(\u001B[49m\u001B[43mfile\u001B[49m\u001B[43m,\u001B[49m\u001B[43m \u001B[49m\u001B[43mfilemode\u001B[49m\u001B[43m)\u001B[49m\n\u001B[0;32m   1250\u001B[0m     \u001B[38;5;28;01mexcept\u001B[39;00m \u001B[38;5;167;01mOSError\u001B[39;00m:\n\u001B[0;32m   1251\u001B[0m         \u001B[38;5;28;01mif\u001B[39;00m filemode \u001B[38;5;129;01min\u001B[39;00m modeDict:\n",
      "\u001B[1;31mFileNotFoundError\u001B[0m: [Errno 2] No such file or directory: 'data/gamesToWin.xlsx'"
     ]
    }
   ],
   "source": [
    "games_to_win = workbook2df(\"data/gamesToWin.xlsx\", True, True)\n",
    "sl_matchup_data = workbook2df(\"data/slmatchups/SLMatchups.xlsx\", True, False)\n",
    "# player_data = workbook2df(\"data/wookieMistakesPlayerData.xlsx\", True, False)\n",
    "# game_data = workbook2df(\"data/wookieMistakesSpring2022Games.xlsx\", True, False)"
   ],
   "metadata": {
    "collapsed": false,
    "pycharm": {
     "name": "#%%\n"
    }
   }
  },
  {
   "cell_type": "markdown",
   "source": [
    "Get Expected Points in every Skill Level matchup"
   ],
   "metadata": {
    "collapsed": false,
    "pycharm": {
     "name": "#%% md\n"
    }
   }
  },
  {
   "cell_type": "code",
   "execution_count": null,
   "outputs": [],
   "source": [
    "def get_sl_matchup_stats(df, games2win):\n",
    "    slmatches = games2win\n",
    "    slrange = range(2, 8)\n",
    "    for p1skill in slrange:\n",
    "        for p2skill in slrange:\n",
    "            matchup_data = SLMatches(p1skill, p2skill)\n",
    "            for index, row in df.iterrows():\n",
    "                if row['Player_1'] == p1skill and row['Player_2'] == p2skill:\n",
    "                    matchup_data.addpoints(row['Points_1'])\n",
    "                    matchup_data.addgame(index)\n",
    "                    if p1skill == p2skill:\n",
    "                        matchup_data.addpoints(row['Points_2'])\n",
    "            for index, row in df.iterrows():\n",
    "                if index not in matchup_data.indices_checked:\n",
    "                    if row['Player_2'] == p1skill and row['Player_1'] == p2skill:\n",
    "                        matchup_data.addpoints(row['Points_2'])\n",
    "                        matchup_data.addgame(index)\n",
    "            matchup_data.getaverage()\n",
    "            if p1skill == p2skill:\n",
    "                matchup_data.average /= 2\n",
    "            if matchup_data.games < 6:\n",
    "                matchup_data.average = \"X{}\".format(round(matchup_data.average, 2))\n",
    "            try:\n",
    "                slmatches.loc[p1skill, p2skill] = round(matchup_data.average, 2)\n",
    "            except TypeError:\n",
    "                slmatches.loc[p1skill, p2skill] = matchup_data.average\n",
    "    for sl in slrange:\n",
    "        plt.plot(np.array(slrange), np.array([float(str(x).replace(\"X\", \"\", 1)) for x in slmatches.values[sl-2]]))\n",
    "        title = 'Matchups SL {}'.format(sl)\n",
    "        imgtitle = \"data/slmatchups/slmatchups{}.jpg\".format(sl)\n",
    "        plt.title(title)\n",
    "        plt.xlabel('Opponent SL')\n",
    "        plt.ylabel('Average Points')\n",
    "        plt.savefig(imgtitle)\n",
    "        plt.show()\n",
    "    slmatches.to_excel(r'data/slmatchups/SLMatchupAverages.xlsx', index=True, header=True)\n",
    "    print(slmatches)\n",
    "\n",
    "\n",
    "get_sl_matchup_stats(sl_matchup_data, games_to_win)"
   ],
   "metadata": {
    "collapsed": false,
    "pycharm": {
     "name": "#%%\n"
    }
   }
  }
 ],
 "metadata": {
  "kernelspec": {
   "display_name": "Python 3",
   "language": "python",
   "name": "python3"
  },
  "language_info": {
   "codemirror_mode": {
    "name": "ipython",
    "version": 2
   },
   "file_extension": ".py",
   "mimetype": "text/x-python",
   "name": "python",
   "nbconvert_exporter": "python",
   "pygments_lexer": "ipython2",
   "version": "2.7.6"
  }
 },
 "nbformat": 4,
 "nbformat_minor": 0
}