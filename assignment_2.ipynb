{
 "cells": [
  {
   "cell_type": "markdown",
   "source": [
    "Scott Berry - Assignment 2"
   ],
   "metadata": {
    "collapsed": false
   }
  },
  {
   "cell_type": "markdown",
   "source": [
    "Import Packages"
   ],
   "metadata": {
    "collapsed": false
   }
  },
  {
   "cell_type": "code",
   "execution_count": 22,
   "outputs": [],
   "source": [
    "import numpy as np\n",
    "import tensorflow as tf\n",
    "from tensorflow import keras\n",
    "from tensorflow.keras import layers"
   ],
   "metadata": {
    "collapsed": false,
    "pycharm": {
     "name": "#%%\n"
    }
   }
  },
  {
   "cell_type": "markdown",
   "source": [
    "Create layers for model according to specifications"
   ],
   "metadata": {
    "collapsed": false
   }
  },
  {
   "cell_type": "code",
   "execution_count": 23,
   "outputs": [],
   "source": [
    "inputs = keras.Input(shape=(5,))\n",
    "hidden = layers.Dense(3, use_bias=True, activation='relu')\n",
    "final = layers.Dense(1, use_bias=True, activation='sigmoid')"
   ],
   "metadata": {
    "collapsed": false,
    "pycharm": {
     "name": "#%%\n"
    }
   }
  },
  {
   "cell_type": "markdown",
   "source": [
    "Create the model"
   ],
   "metadata": {
    "collapsed": false
   }
  },
  {
   "cell_type": "code",
   "execution_count": 24,
   "outputs": [
    {
     "name": "stdout",
     "output_type": "stream",
     "text": [
      "Model: \"Assignment_2\"\n",
      "_________________________________________________________________\n",
      " Layer (type)                Output Shape              Param #   \n",
      "=================================================================\n",
      " input_4 (InputLayer)        [(None, 5)]               0         \n",
      "                                                                 \n",
      " dense_6 (Dense)             (None, 3)                 18        \n",
      "                                                                 \n",
      " dense_7 (Dense)             (None, 1)                 4         \n",
      "                                                                 \n",
      "=================================================================\n",
      "Total params: 22\n",
      "Trainable params: 22\n",
      "Non-trainable params: 0\n",
      "_________________________________________________________________\n",
      "None\n"
     ]
    }
   ],
   "source": [
    "x = hidden(inputs)\n",
    "output = final(x)\n",
    "model = keras.Model(inputs=inputs, outputs=output, name='Assignment_2')\n",
    "print(model.summary())"
   ],
   "metadata": {
    "collapsed": false,
    "pycharm": {
     "name": "#%%\n"
    }
   }
  },
  {
   "cell_type": "markdown",
   "source": [
    "Create an arbitrary dataset"
   ],
   "metadata": {
    "collapsed": false
   }
  },
  {
   "cell_type": "code",
   "execution_count": 25,
   "outputs": [],
   "source": [
    "num_samples = 1000\n",
    "target_output = 0.3\n",
    "input_data = np.random.randn(num_samples, 5)\n",
    "targets = np.full((num_samples, 1), target_output)"
   ],
   "metadata": {
    "collapsed": false,
    "pycharm": {
     "name": "#%%\n"
    }
   }
  },
  {
   "cell_type": "markdown",
   "source": [
    "Compile and train model"
   ],
   "metadata": {
    "collapsed": false
   }
  },
  {
   "cell_type": "code",
   "execution_count": 26,
   "outputs": [
    {
     "name": "stdout",
     "output_type": "stream",
     "text": [
      "Epoch 1/100\n",
      "32/32 [==============================] - 0s 2ms/step - loss: 0.0634 - accuracy: 0.0000e+00\n",
      "Epoch 2/100\n",
      "32/32 [==============================] - 0s 2ms/step - loss: 0.0336 - accuracy: 0.0000e+00\n",
      "Epoch 3/100\n",
      "32/32 [==============================] - 0s 2ms/step - loss: 0.0210 - accuracy: 0.0000e+00\n",
      "Epoch 4/100\n",
      "32/32 [==============================] - 0s 2ms/step - loss: 0.0150 - accuracy: 0.0000e+00\n",
      "Epoch 5/100\n",
      "32/32 [==============================] - 0s 1ms/step - loss: 0.0118 - accuracy: 0.0000e+00\n",
      "Epoch 6/100\n",
      "32/32 [==============================] - 0s 1ms/step - loss: 0.0096 - accuracy: 0.0000e+00\n",
      "Epoch 7/100\n",
      "32/32 [==============================] - 0s 1ms/step - loss: 0.0080 - accuracy: 0.0000e+00\n",
      "Epoch 8/100\n",
      "32/32 [==============================] - 0s 1ms/step - loss: 0.0067 - accuracy: 0.0000e+00\n",
      "Epoch 9/100\n",
      "32/32 [==============================] - 0s 1000us/step - loss: 0.0057 - accuracy: 0.0000e+00\n",
      "Epoch 10/100\n",
      "32/32 [==============================] - 0s 1ms/step - loss: 0.0048 - accuracy: 0.0000e+00\n",
      "Epoch 11/100\n",
      "32/32 [==============================] - 0s 1ms/step - loss: 0.0041 - accuracy: 0.0000e+00\n",
      "Epoch 12/100\n",
      "32/32 [==============================] - 0s 1ms/step - loss: 0.0035 - accuracy: 0.0000e+00\n",
      "Epoch 13/100\n",
      "32/32 [==============================] - 0s 2ms/step - loss: 0.0029 - accuracy: 0.0000e+00\n",
      "Epoch 14/100\n",
      "32/32 [==============================] - 0s 1ms/step - loss: 0.0025 - accuracy: 0.0000e+00\n",
      "Epoch 15/100\n",
      "32/32 [==============================] - 0s 2ms/step - loss: 0.0021 - accuracy: 0.0000e+00\n",
      "Epoch 16/100\n",
      "32/32 [==============================] - 0s 2ms/step - loss: 0.0018 - accuracy: 0.0000e+00\n",
      "Epoch 17/100\n",
      "32/32 [==============================] - 0s 1ms/step - loss: 0.0016 - accuracy: 0.0000e+00\n",
      "Epoch 18/100\n",
      "32/32 [==============================] - 0s 1ms/step - loss: 0.0013 - accuracy: 0.0000e+00\n",
      "Epoch 19/100\n",
      "32/32 [==============================] - 0s 1ms/step - loss: 0.0011 - accuracy: 0.0000e+00\n",
      "Epoch 20/100\n",
      "32/32 [==============================] - 0s 936us/step - loss: 9.9445e-04 - accuracy: 0.0000e+00\n",
      "Epoch 21/100\n",
      "32/32 [==============================] - 0s 1ms/step - loss: 8.6558e-04 - accuracy: 0.0000e+00\n",
      "Epoch 22/100\n",
      "32/32 [==============================] - 0s 968us/step - loss: 7.5572e-04 - accuracy: 0.0000e+00\n",
      "Epoch 23/100\n",
      "32/32 [==============================] - 0s 1ms/step - loss: 6.6149e-04 - accuracy: 0.0000e+00\n",
      "Epoch 24/100\n",
      "32/32 [==============================] - 0s 1000us/step - loss: 5.7824e-04 - accuracy: 0.0000e+00\n",
      "Epoch 25/100\n",
      "32/32 [==============================] - 0s 968us/step - loss: 5.0722e-04 - accuracy: 0.0000e+00\n",
      "Epoch 26/100\n",
      "32/32 [==============================] - 0s 1ms/step - loss: 4.4621e-04 - accuracy: 0.0000e+00\n",
      "Epoch 27/100\n",
      "32/32 [==============================] - 0s 968us/step - loss: 3.9498e-04 - accuracy: 0.0000e+00\n",
      "Epoch 28/100\n",
      "32/32 [==============================] - 0s 919us/step - loss: 3.4821e-04 - accuracy: 0.0000e+00\n",
      "Epoch 29/100\n",
      "32/32 [==============================] - 0s 903us/step - loss: 3.0874e-04 - accuracy: 0.0000e+00\n",
      "Epoch 30/100\n",
      "32/32 [==============================] - 0s 903us/step - loss: 2.7509e-04 - accuracy: 0.0000e+00\n",
      "Epoch 31/100\n",
      "32/32 [==============================] - 0s 951us/step - loss: 2.4518e-04 - accuracy: 0.0000e+00\n",
      "Epoch 32/100\n",
      "32/32 [==============================] - 0s 1ms/step - loss: 2.1889e-04 - accuracy: 0.0000e+00\n",
      "Epoch 33/100\n",
      "32/32 [==============================] - 0s 1000us/step - loss: 1.9623e-04 - accuracy: 0.0000e+00\n",
      "Epoch 34/100\n",
      "32/32 [==============================] - 0s 984us/step - loss: 1.7596e-04 - accuracy: 0.0000e+00\n",
      "Epoch 35/100\n",
      "32/32 [==============================] - 0s 968us/step - loss: 1.5790e-04 - accuracy: 0.0000e+00\n",
      "Epoch 36/100\n",
      "32/32 [==============================] - 0s 855us/step - loss: 1.4193e-04 - accuracy: 0.0000e+00\n",
      "Epoch 37/100\n",
      "32/32 [==============================] - 0s 1ms/step - loss: 1.2782e-04 - accuracy: 0.0000e+00\n",
      "Epoch 38/100\n",
      "32/32 [==============================] - 0s 984us/step - loss: 1.1465e-04 - accuracy: 0.0000e+00\n",
      "Epoch 39/100\n",
      "32/32 [==============================] - 0s 1ms/step - loss: 1.0345e-04 - accuracy: 0.0000e+00\n",
      "Epoch 40/100\n",
      "32/32 [==============================] - 0s 1000us/step - loss: 9.3369e-05 - accuracy: 0.0000e+00\n",
      "Epoch 41/100\n",
      "32/32 [==============================] - 0s 952us/step - loss: 8.4327e-05 - accuracy: 0.0000e+00\n",
      "Epoch 42/100\n",
      "32/32 [==============================] - 0s 952us/step - loss: 7.6179e-05 - accuracy: 0.0000e+00\n",
      "Epoch 43/100\n",
      "32/32 [==============================] - 0s 1ms/step - loss: 6.8842e-05 - accuracy: 0.0000e+00\n",
      "Epoch 44/100\n",
      "32/32 [==============================] - 0s 968us/step - loss: 6.2309e-05 - accuracy: 0.0000e+00\n",
      "Epoch 45/100\n",
      "32/32 [==============================] - 0s 903us/step - loss: 5.6121e-05 - accuracy: 0.0000e+00\n",
      "Epoch 46/100\n",
      "32/32 [==============================] - 0s 968us/step - loss: 5.0817e-05 - accuracy: 0.0000e+00\n",
      "Epoch 47/100\n",
      "32/32 [==============================] - 0s 968us/step - loss: 4.5790e-05 - accuracy: 0.0000e+00\n",
      "Epoch 48/100\n",
      "32/32 [==============================] - 0s 1000us/step - loss: 4.1492e-05 - accuracy: 0.0000e+00\n",
      "Epoch 49/100\n",
      "32/32 [==============================] - 0s 1ms/step - loss: 3.7564e-05 - accuracy: 0.0000e+00\n",
      "Epoch 50/100\n",
      "32/32 [==============================] - 0s 984us/step - loss: 3.4068e-05 - accuracy: 0.0000e+00\n",
      "Epoch 51/100\n",
      "32/32 [==============================] - 0s 903us/step - loss: 3.0919e-05 - accuracy: 0.0000e+00\n",
      "Epoch 52/100\n",
      "32/32 [==============================] - 0s 952us/step - loss: 2.7981e-05 - accuracy: 0.0000e+00\n",
      "Epoch 53/100\n",
      "32/32 [==============================] - 0s 935us/step - loss: 2.5323e-05 - accuracy: 0.0000e+00\n",
      "Epoch 54/100\n",
      "32/32 [==============================] - 0s 1000us/step - loss: 2.2984e-05 - accuracy: 0.0000e+00\n",
      "Epoch 55/100\n",
      "32/32 [==============================] - 0s 919us/step - loss: 2.0795e-05 - accuracy: 0.0000e+00\n",
      "Epoch 56/100\n",
      "32/32 [==============================] - 0s 968us/step - loss: 1.8856e-05 - accuracy: 0.0000e+00\n",
      "Epoch 57/100\n",
      "32/32 [==============================] - 0s 967us/step - loss: 1.7123e-05 - accuracy: 0.0000e+00\n",
      "Epoch 58/100\n",
      "32/32 [==============================] - 0s 887us/step - loss: 1.5528e-05 - accuracy: 0.0000e+00\n",
      "Epoch 59/100\n",
      "32/32 [==============================] - 0s 935us/step - loss: 1.4093e-05 - accuracy: 0.0000e+00\n",
      "Epoch 60/100\n",
      "32/32 [==============================] - 0s 903us/step - loss: 1.2766e-05 - accuracy: 0.0000e+00\n",
      "Epoch 61/100\n",
      "32/32 [==============================] - 0s 1ms/step - loss: 1.1586e-05 - accuracy: 0.0000e+00\n",
      "Epoch 62/100\n",
      "32/32 [==============================] - 0s 919us/step - loss: 1.0505e-05 - accuracy: 0.0000e+00\n",
      "Epoch 63/100\n",
      "32/32 [==============================] - 0s 968us/step - loss: 9.5468e-06 - accuracy: 0.0000e+00\n",
      "Epoch 64/100\n",
      "32/32 [==============================] - 0s 984us/step - loss: 8.6496e-06 - accuracy: 0.0000e+00\n",
      "Epoch 65/100\n",
      "32/32 [==============================] - 0s 952us/step - loss: 7.8528e-06 - accuracy: 0.0000e+00\n",
      "Epoch 66/100\n",
      "32/32 [==============================] - 0s 968us/step - loss: 7.1317e-06 - accuracy: 0.0000e+00\n",
      "Epoch 67/100\n",
      "32/32 [==============================] - 0s 952us/step - loss: 6.4754e-06 - accuracy: 0.0000e+00\n",
      "Epoch 68/100\n",
      "32/32 [==============================] - 0s 1ms/step - loss: 5.8818e-06 - accuracy: 0.0000e+00\n",
      "Epoch 69/100\n",
      "32/32 [==============================] - 0s 935us/step - loss: 5.3359e-06 - accuracy: 0.0000e+00\n",
      "Epoch 70/100\n",
      "32/32 [==============================] - 0s 1ms/step - loss: 4.8423e-06 - accuracy: 0.0000e+00\n",
      "Epoch 71/100\n",
      "32/32 [==============================] - 0s 1ms/step - loss: 4.3903e-06 - accuracy: 0.0000e+00\n",
      "Epoch 72/100\n",
      "32/32 [==============================] - 0s 968us/step - loss: 3.9841e-06 - accuracy: 0.0000e+00\n",
      "Epoch 73/100\n",
      "32/32 [==============================] - 0s 855us/step - loss: 3.6149e-06 - accuracy: 0.0000e+00\n",
      "Epoch 74/100\n",
      "32/32 [==============================] - 0s 952us/step - loss: 3.2808e-06 - accuracy: 0.0000e+00\n",
      "Epoch 75/100\n",
      "32/32 [==============================] - 0s 984us/step - loss: 2.9689e-06 - accuracy: 0.0000e+00\n",
      "Epoch 76/100\n",
      "32/32 [==============================] - 0s 935us/step - loss: 2.6954e-06 - accuracy: 0.0000e+00\n",
      "Epoch 77/100\n",
      "32/32 [==============================] - 0s 984us/step - loss: 2.4427e-06 - accuracy: 0.0000e+00\n",
      "Epoch 78/100\n",
      "32/32 [==============================] - 0s 968us/step - loss: 2.2182e-06 - accuracy: 0.0000e+00\n",
      "Epoch 79/100\n",
      "32/32 [==============================] - 0s 984us/step - loss: 2.0147e-06 - accuracy: 0.0000e+00\n",
      "Epoch 80/100\n",
      "32/32 [==============================] - 0s 952us/step - loss: 1.8248e-06 - accuracy: 0.0000e+00\n",
      "Epoch 81/100\n",
      "32/32 [==============================] - 0s 935us/step - loss: 1.6550e-06 - accuracy: 0.0000e+00\n",
      "Epoch 82/100\n",
      "32/32 [==============================] - 0s 984us/step - loss: 1.5006e-06 - accuracy: 0.0000e+00\n",
      "Epoch 83/100\n",
      "32/32 [==============================] - 0s 935us/step - loss: 1.3564e-06 - accuracy: 0.0000e+00\n",
      "Epoch 84/100\n",
      "32/32 [==============================] - 0s 920us/step - loss: 1.2316e-06 - accuracy: 0.0000e+00\n",
      "Epoch 85/100\n",
      "32/32 [==============================] - 0s 887us/step - loss: 1.1178e-06 - accuracy: 0.0000e+00\n",
      "Epoch 86/100\n",
      "32/32 [==============================] - 0s 968us/step - loss: 1.0139e-06 - accuracy: 0.0000e+00\n",
      "Epoch 87/100\n",
      "32/32 [==============================] - 0s 968us/step - loss: 9.2102e-07 - accuracy: 0.0000e+00\n",
      "Epoch 88/100\n",
      "32/32 [==============================] - 0s 1ms/step - loss: 8.3597e-07 - accuracy: 0.0000e+00\n",
      "Epoch 89/100\n",
      "32/32 [==============================] - 0s 968us/step - loss: 7.5725e-07 - accuracy: 0.0000e+00\n",
      "Epoch 90/100\n",
      "32/32 [==============================] - 0s 968us/step - loss: 6.8768e-07 - accuracy: 0.0000e+00\n",
      "Epoch 91/100\n",
      "32/32 [==============================] - 0s 984us/step - loss: 6.2468e-07 - accuracy: 0.0000e+00\n",
      "Epoch 92/100\n",
      "32/32 [==============================] - 0s 887us/step - loss: 5.6646e-07 - accuracy: 0.0000e+00\n",
      "Epoch 93/100\n",
      "32/32 [==============================] - 0s 952us/step - loss: 5.0568e-07 - accuracy: 0.0000e+00\n",
      "Epoch 94/100\n",
      "32/32 [==============================] - 0s 952us/step - loss: 4.5702e-07 - accuracy: 0.0000e+00\n",
      "Epoch 95/100\n",
      "32/32 [==============================] - 0s 936us/step - loss: 4.1494e-07 - accuracy: 0.0000e+00\n",
      "Epoch 96/100\n",
      "32/32 [==============================] - 0s 887us/step - loss: 3.7662e-07 - accuracy: 0.0000e+00\n",
      "Epoch 97/100\n",
      "32/32 [==============================] - 0s 903us/step - loss: 3.4081e-07 - accuracy: 0.0000e+00\n",
      "Epoch 98/100\n",
      "32/32 [==============================] - 0s 1ms/step - loss: 3.0926e-07 - accuracy: 0.0000e+00\n",
      "Epoch 99/100\n",
      "32/32 [==============================] - 0s 1ms/step - loss: 2.8081e-07 - accuracy: 0.0000e+00\n",
      "Epoch 100/100\n",
      "32/32 [==============================] - 0s 984us/step - loss: 2.5504e-07 - accuracy: 0.0000e+00\n"
     ]
    },
    {
     "data": {
      "text/plain": "<keras.callbacks.History at 0x1ea8fedad70>"
     },
     "execution_count": 26,
     "metadata": {},
     "output_type": "execute_result"
    }
   ],
   "source": [
    "model.compile(\n",
    "    loss=keras.losses.MeanSquaredError(),\n",
    "    optimizer=keras.optimizers.SGD(learning_rate=0.1),\n",
    "    metrics=['accuracy']\n",
    ")\n",
    "model.fit(input_data, targets, batch_size=32, epochs=100)"
   ],
   "metadata": {
    "collapsed": false,
    "pycharm": {
     "name": "#%%\n"
    }
   }
  },
  {
   "cell_type": "markdown",
   "source": [
    "Test output"
   ],
   "metadata": {
    "collapsed": false
   }
  },
  {
   "cell_type": "code",
   "execution_count": 27,
   "outputs": [
    {
     "name": "stdout",
     "output_type": "stream",
     "text": [
      "Prediction: 0.30\n"
     ]
    }
   ],
   "source": [
    "random_input = np.random.randn(1,5)\n",
    "out = tf.squeeze(model.predict(random_input)).numpy()\n",
    "print(\"Prediction: {:.2f}\".format(out))"
   ],
   "metadata": {
    "collapsed": false,
    "pycharm": {
     "name": "#%%\n"
    }
   }
  },
  {
   "cell_type": "markdown",
   "source": [
    "Print weights and biases"
   ],
   "metadata": {
    "collapsed": false
   }
  },
  {
   "cell_type": "code",
   "execution_count": 28,
   "outputs": [
    {
     "name": "stdout",
     "output_type": "stream",
     "text": [
      "Hidden Layer Weights: [[ 0.62902826  0.2627437  -0.02776143]\n",
      " [-0.55061555  0.54273367  0.32308063]\n",
      " [ 0.05085528 -0.20063917 -0.6269278 ]\n",
      " [ 0.59940857  0.4006448   0.05345453]\n",
      " [ 0.62612396 -0.48861417  0.33413586]]\n",
      "Hidden Layer Biases: [-0.09096894 -0.34770665  0.01044082]\n",
      "Final Layer Weights [[-0.00035927]\n",
      " [ 0.00173503]\n",
      " [-0.00509202]]\n",
      "Final Layer Biases: [-0.8456463]\n"
     ]
    }
   ],
   "source": [
    "hl_weight, hl_bias, fl_weight, fl_bias = model.get_weights()[0:4]\n",
    "print(\"Hidden Layer Weights:\", hl_weight)\n",
    "print(\"Hidden Layer Biases:\", hl_bias)\n",
    "print(\"Final Layer Weights\", fl_weight)\n",
    "print(\"Final Layer Biases:\", fl_bias)"
   ],
   "metadata": {
    "collapsed": false,
    "pycharm": {
     "name": "#%%\n"
    }
   }
  }
 ],
 "metadata": {
  "kernelspec": {
   "display_name": "Python 3",
   "language": "python",
   "name": "python3"
  },
  "language_info": {
   "codemirror_mode": {
    "name": "ipython",
    "version": 2
   },
   "file_extension": ".py",
   "mimetype": "text/x-python",
   "name": "python",
   "nbconvert_exporter": "python",
   "pygments_lexer": "ipython2",
   "version": "2.7.6"
  }
 },
 "nbformat": 4,
 "nbformat_minor": 0
}