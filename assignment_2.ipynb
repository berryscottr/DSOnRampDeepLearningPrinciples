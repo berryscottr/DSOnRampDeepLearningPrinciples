{
 "cells": [
  {
   "cell_type": "markdown",
   "source": [
    "Scott Berry - Assignment 2"
   ],
   "metadata": {
    "collapsed": false
   }
  },
  {
   "cell_type": "markdown",
   "source": [
    "Import Packages"
   ],
   "metadata": {
    "collapsed": false
   }
  },
  {
   "cell_type": "code",
   "execution_count": 1,
   "outputs": [],
   "source": [
    "import numpy as np\n",
    "import tensorflow as tf\n",
    "from tensorflow import keras\n",
    "from tensorflow.keras import layers"
   ],
   "metadata": {
    "collapsed": false,
    "pycharm": {
     "name": "#%%\n"
    }
   }
  },
  {
   "cell_type": "markdown",
   "source": [
    "Create layers for model according to specifications"
   ],
   "metadata": {
    "collapsed": false
   }
  },
  {
   "cell_type": "code",
   "execution_count": 2,
   "outputs": [],
   "source": [
    "inputs = keras.Input(shape=(5,))\n",
    "hidden = layers.Dense(3, use_bias=True, activation='relu')\n",
    "final = layers.Dense(1, use_bias=True, activation='sigmoid')"
   ],
   "metadata": {
    "collapsed": false,
    "pycharm": {
     "name": "#%%\n"
    }
   }
  },
  {
   "cell_type": "markdown",
   "source": [
    "Create the model"
   ],
   "metadata": {
    "collapsed": false
   }
  },
  {
   "cell_type": "code",
   "execution_count": 3,
   "outputs": [
    {
     "name": "stdout",
     "output_type": "stream",
     "text": [
      "Model: \"Assignment_2\"\n",
      "_________________________________________________________________\n",
      " Layer (type)                Output Shape              Param #   \n",
      "=================================================================\n",
      " input_1 (InputLayer)        [(None, 5)]               0         \n",
      "                                                                 \n",
      " dense (Dense)               (None, 3)                 18        \n",
      "                                                                 \n",
      " dense_1 (Dense)             (None, 1)                 4         \n",
      "                                                                 \n",
      "=================================================================\n",
      "Total params: 22\n",
      "Trainable params: 22\n",
      "Non-trainable params: 0\n",
      "_________________________________________________________________\n",
      "None\n"
     ]
    }
   ],
   "source": [
    "x = hidden(inputs)\n",
    "output = final(x)\n",
    "model = keras.Model(inputs=inputs, outputs=output, name='Assignment_2')\n",
    "print(model.summary())"
   ],
   "metadata": {
    "collapsed": false,
    "pycharm": {
     "name": "#%%\n"
    }
   }
  },
  {
   "cell_type": "markdown",
   "source": [
    "Create an arbitrary dataset"
   ],
   "metadata": {
    "collapsed": false
   }
  },
  {
   "cell_type": "code",
   "execution_count": 4,
   "outputs": [],
   "source": [
    "num_samples = 5000\n",
    "target_output = 0.3\n",
    "input_data = np.random.randn(num_samples, 5)\n",
    "targets = np.full((num_samples, 1), target_output)"
   ],
   "metadata": {
    "collapsed": false,
    "pycharm": {
     "name": "#%%\n"
    }
   }
  },
  {
   "cell_type": "markdown",
   "source": [
    "Compile and train model"
   ],
   "metadata": {
    "collapsed": false
   }
  },
  {
   "cell_type": "code",
   "execution_count": 5,
   "outputs": [
    {
     "name": "stdout",
     "output_type": "stream",
     "text": [
      "Epoch 1/100\n",
      "157/157 [==============================] - 0s 930us/step - loss: 0.0215 - accuracy: 0.0000e+00\n",
      "Epoch 2/100\n",
      "157/157 [==============================] - 0s 910us/step - loss: 0.0102 - accuracy: 0.0000e+00\n",
      "Epoch 3/100\n",
      "157/157 [==============================] - 0s 897us/step - loss: 0.0063 - accuracy: 0.0000e+00\n",
      "Epoch 4/100\n",
      "157/157 [==============================] - 0s 920us/step - loss: 0.0042 - accuracy: 0.0000e+00\n",
      "Epoch 5/100\n",
      "157/157 [==============================] - 0s 949us/step - loss: 0.0030 - accuracy: 0.0000e+00\n",
      "Epoch 6/100\n",
      "157/157 [==============================] - 0s 939us/step - loss: 0.0022 - accuracy: 0.0000e+00\n",
      "Epoch 7/100\n",
      "157/157 [==============================] - 0s 965us/step - loss: 0.0017 - accuracy: 0.0000e+00\n",
      "Epoch 8/100\n",
      "157/157 [==============================] - 0s 913us/step - loss: 0.0013 - accuracy: 0.0000e+00\n",
      "Epoch 9/100\n",
      "157/157 [==============================] - 0s 907us/step - loss: 0.0010 - accuracy: 0.0000e+00\n",
      "Epoch 10/100\n",
      "157/157 [==============================] - 0s 955us/step - loss: 8.0917e-04 - accuracy: 0.0000e+00\n",
      "Epoch 11/100\n",
      "157/157 [==============================] - 0s 923us/step - loss: 6.4400e-04 - accuracy: 0.0000e+00\n",
      "Epoch 12/100\n",
      "157/157 [==============================] - 0s 891us/step - loss: 5.1619e-04 - accuracy: 0.0000e+00\n",
      "Epoch 13/100\n",
      "157/157 [==============================] - 0s 891us/step - loss: 4.1577e-04 - accuracy: 0.0000e+00\n",
      "Epoch 14/100\n",
      "157/157 [==============================] - 0s 926us/step - loss: 3.3610e-04 - accuracy: 0.0000e+00\n",
      "Epoch 15/100\n",
      "157/157 [==============================] - 0s 917us/step - loss: 2.7245e-04 - accuracy: 0.0000e+00\n",
      "Epoch 16/100\n",
      "157/157 [==============================] - 0s 897us/step - loss: 2.2169e-04 - accuracy: 0.0000e+00\n",
      "Epoch 17/100\n",
      "157/157 [==============================] - 0s 920us/step - loss: 1.8064e-04 - accuracy: 0.0000e+00\n",
      "Epoch 18/100\n",
      "157/157 [==============================] - 0s 904us/step - loss: 1.4762e-04 - accuracy: 0.0000e+00\n",
      "Epoch 19/100\n",
      "157/157 [==============================] - 0s 901us/step - loss: 1.2086e-04 - accuracy: 0.0000e+00\n",
      "Epoch 20/100\n",
      "157/157 [==============================] - 0s 907us/step - loss: 9.9043e-05 - accuracy: 0.0000e+00\n",
      "Epoch 21/100\n",
      "157/157 [==============================] - 0s 894us/step - loss: 8.1199e-05 - accuracy: 0.0000e+00\n",
      "Epoch 22/100\n",
      "157/157 [==============================] - 0s 917us/step - loss: 6.6628e-05 - accuracy: 0.0000e+00\n",
      "Epoch 23/100\n",
      "157/157 [==============================] - 0s 872us/step - loss: 5.4716e-05 - accuracy: 0.0000e+00\n",
      "Epoch 24/100\n",
      "157/157 [==============================] - 0s 875us/step - loss: 4.4936e-05 - accuracy: 0.0000e+00\n",
      "Epoch 25/100\n",
      "157/157 [==============================] - 0s 837us/step - loss: 3.6931e-05 - accuracy: 0.0000e+00\n",
      "Epoch 26/100\n",
      "157/157 [==============================] - 0s 843us/step - loss: 3.0392e-05 - accuracy: 0.0000e+00\n",
      "Epoch 27/100\n",
      "157/157 [==============================] - 0s 1ms/step - loss: 2.5001e-05 - accuracy: 0.0000e+00\n",
      "Epoch 28/100\n",
      "157/157 [==============================] - 0s 885us/step - loss: 2.0558e-05 - accuracy: 0.0000e+00\n",
      "Epoch 29/100\n",
      "157/157 [==============================] - 0s 875us/step - loss: 1.6921e-05 - accuracy: 0.0000e+00\n",
      "Epoch 30/100\n",
      "157/157 [==============================] - 0s 891us/step - loss: 1.3915e-05 - accuracy: 0.0000e+00\n",
      "Epoch 31/100\n",
      "157/157 [==============================] - 0s 910us/step - loss: 1.1433e-05 - accuracy: 0.0000e+00\n",
      "Epoch 32/100\n",
      "157/157 [==============================] - 0s 1ms/step - loss: 9.4091e-06 - accuracy: 0.0000e+00\n",
      "Epoch 33/100\n",
      "157/157 [==============================] - 0s 878us/step - loss: 7.7366e-06 - accuracy: 0.0000e+00\n",
      "Epoch 34/100\n",
      "157/157 [==============================] - 0s 904us/step - loss: 6.3592e-06 - accuracy: 0.0000e+00\n",
      "Epoch 35/100\n",
      "157/157 [==============================] - 0s 904us/step - loss: 5.2325e-06 - accuracy: 0.0000e+00\n",
      "Epoch 36/100\n",
      "157/157 [==============================] - 0s 949us/step - loss: 4.3043e-06 - accuracy: 0.0000e+00\n",
      "Epoch 37/100\n",
      "157/157 [==============================] - 0s 849us/step - loss: 3.5356e-06 - accuracy: 0.0000e+00\n",
      "Epoch 38/100\n",
      "157/157 [==============================] - 0s 881us/step - loss: 2.9096e-06 - accuracy: 0.0000e+00\n",
      "Epoch 39/100\n",
      "157/157 [==============================] - 0s 926us/step - loss: 2.3936e-06 - accuracy: 0.0000e+00\n",
      "Epoch 40/100\n",
      "157/157 [==============================] - 0s 939us/step - loss: 1.9679e-06 - accuracy: 0.0000e+00\n",
      "Epoch 41/100\n",
      "157/157 [==============================] - 0s 878us/step - loss: 1.6189e-06 - accuracy: 0.0000e+00\n",
      "Epoch 42/100\n",
      "157/157 [==============================] - 0s 881us/step - loss: 1.3322e-06 - accuracy: 0.0000e+00\n",
      "Epoch 43/100\n",
      "157/157 [==============================] - 0s 888us/step - loss: 1.0963e-06 - accuracy: 0.0000e+00\n",
      "Epoch 44/100\n",
      "157/157 [==============================] - 0s 875us/step - loss: 9.0177e-07 - accuracy: 0.0000e+00\n",
      "Epoch 45/100\n",
      "157/157 [==============================] - 0s 885us/step - loss: 7.4213e-07 - accuracy: 0.0000e+00\n",
      "Epoch 46/100\n",
      "157/157 [==============================] - 0s 875us/step - loss: 6.1046e-07 - accuracy: 0.0000e+00\n",
      "Epoch 47/100\n",
      "157/157 [==============================] - 0s 856us/step - loss: 5.0066e-07 - accuracy: 0.0000e+00\n",
      "Epoch 48/100\n",
      "157/157 [==============================] - 0s 920us/step - loss: 4.1169e-07 - accuracy: 0.0000e+00\n",
      "Epoch 49/100\n",
      "157/157 [==============================] - 0s 920us/step - loss: 3.3861e-07 - accuracy: 0.0000e+00\n",
      "Epoch 50/100\n",
      "157/157 [==============================] - 0s 901us/step - loss: 2.7839e-07 - accuracy: 0.0000e+00\n",
      "Epoch 51/100\n",
      "157/157 [==============================] - 0s 894us/step - loss: 2.2887e-07 - accuracy: 0.0000e+00\n",
      "Epoch 52/100\n",
      "157/157 [==============================] - 0s 875us/step - loss: 1.8812e-07 - accuracy: 0.0000e+00\n",
      "Epoch 53/100\n",
      "157/157 [==============================] - 0s 865us/step - loss: 1.5462e-07 - accuracy: 0.0000e+00\n",
      "Epoch 54/100\n",
      "157/157 [==============================] - 0s 878us/step - loss: 1.2721e-07 - accuracy: 0.0000e+00\n",
      "Epoch 55/100\n",
      "157/157 [==============================] - 0s 891us/step - loss: 1.0461e-07 - accuracy: 0.0000e+00\n",
      "Epoch 56/100\n",
      "157/157 [==============================] - 0s 878us/step - loss: 8.6038e-08 - accuracy: 0.0000e+00\n",
      "Epoch 57/100\n",
      "157/157 [==============================] - 0s 907us/step - loss: 7.0789e-08 - accuracy: 0.0000e+00\n",
      "Epoch 58/100\n",
      "157/157 [==============================] - 0s 862us/step - loss: 5.8225e-08 - accuracy: 0.0000e+00\n",
      "Epoch 59/100\n",
      "157/157 [==============================] - 0s 920us/step - loss: 4.7892e-08 - accuracy: 0.0000e+00\n",
      "Epoch 60/100\n",
      "157/157 [==============================] - 0s 910us/step - loss: 3.9367e-08 - accuracy: 0.0000e+00\n",
      "Epoch 61/100\n",
      "157/157 [==============================] - 0s 920us/step - loss: 3.2379e-08 - accuracy: 0.0000e+00\n",
      "Epoch 62/100\n",
      "157/157 [==============================] - 0s 907us/step - loss: 2.6628e-08 - accuracy: 0.0000e+00\n",
      "Epoch 63/100\n",
      "157/157 [==============================] - 0s 901us/step - loss: 2.1886e-08 - accuracy: 0.0000e+00\n",
      "Epoch 64/100\n",
      "157/157 [==============================] - 0s 910us/step - loss: 1.7975e-08 - accuracy: 0.0000e+00\n",
      "Epoch 65/100\n",
      "157/157 [==============================] - 0s 913us/step - loss: 1.4764e-08 - accuracy: 0.0000e+00\n",
      "Epoch 66/100\n",
      "157/157 [==============================] - 0s 942us/step - loss: 1.2141e-08 - accuracy: 0.0000e+00\n",
      "Epoch 67/100\n",
      "157/157 [==============================] - 0s 891us/step - loss: 9.9819e-09 - accuracy: 0.0000e+00\n",
      "Epoch 68/100\n",
      "157/157 [==============================] - 0s 878us/step - loss: 8.2048e-09 - accuracy: 0.0000e+00\n",
      "Epoch 69/100\n",
      "157/157 [==============================] - 0s 894us/step - loss: 6.7436e-09 - accuracy: 0.0000e+00\n",
      "Epoch 70/100\n",
      "157/157 [==============================] - 0s 862us/step - loss: 5.5424e-09 - accuracy: 0.0000e+00\n",
      "Epoch 71/100\n",
      "157/157 [==============================] - 0s 881us/step - loss: 4.5591e-09 - accuracy: 0.0000e+00\n",
      "Epoch 72/100\n",
      "157/157 [==============================] - 0s 869us/step - loss: 3.7491e-09 - accuracy: 0.0000e+00\n",
      "Epoch 73/100\n",
      "157/157 [==============================] - 0s 923us/step - loss: 3.0819e-09 - accuracy: 0.0000e+00\n",
      "Epoch 74/100\n",
      "157/157 [==============================] - 0s 926us/step - loss: 2.5353e-09 - accuracy: 0.0000e+00\n",
      "Epoch 75/100\n",
      "157/157 [==============================] - 0s 939us/step - loss: 2.0850e-09 - accuracy: 0.0000e+00\n",
      "Epoch 76/100\n",
      "157/157 [==============================] - 0s 936us/step - loss: 1.7144e-09 - accuracy: 0.0000e+00\n",
      "Epoch 77/100\n",
      "157/157 [==============================] - 0s 875us/step - loss: 1.4098e-09 - accuracy: 0.0000e+00\n",
      "Epoch 78/100\n",
      "157/157 [==============================] - 0s 897us/step - loss: 1.1594e-09 - accuracy: 0.0000e+00\n",
      "Epoch 79/100\n",
      "157/157 [==============================] - 0s 862us/step - loss: 9.5338e-10 - accuracy: 0.0000e+00\n",
      "Epoch 80/100\n",
      "157/157 [==============================] - 0s 968us/step - loss: 7.8401e-10 - accuracy: 0.0000e+00\n",
      "Epoch 81/100\n",
      "157/157 [==============================] - 0s 917us/step - loss: 6.4468e-10 - accuracy: 0.0000e+00\n",
      "Epoch 82/100\n",
      "157/157 [==============================] - 0s 897us/step - loss: 5.2997e-10 - accuracy: 0.0000e+00\n",
      "Epoch 83/100\n",
      "157/157 [==============================] - 0s 1ms/step - loss: 4.3557e-10 - accuracy: 0.0000e+00\n",
      "Epoch 84/100\n",
      "157/157 [==============================] - 0s 917us/step - loss: 3.5822e-10 - accuracy: 0.0000e+00\n",
      "Epoch 85/100\n",
      "157/157 [==============================] - 0s 894us/step - loss: 2.9432e-10 - accuracy: 0.0000e+00\n",
      "Epoch 86/100\n",
      "157/157 [==============================] - 0s 904us/step - loss: 2.4182e-10 - accuracy: 0.0000e+00\n",
      "Epoch 87/100\n",
      "157/157 [==============================] - 0s 923us/step - loss: 1.9882e-10 - accuracy: 0.0000e+00\n",
      "Epoch 88/100\n",
      "157/157 [==============================] - 0s 881us/step - loss: 1.6355e-10 - accuracy: 0.0000e+00\n",
      "Epoch 89/100\n",
      "157/157 [==============================] - 0s 939us/step - loss: 1.3445e-10 - accuracy: 0.0000e+00\n",
      "Epoch 90/100\n",
      "157/157 [==============================] - 0s 894us/step - loss: 1.1054e-10 - accuracy: 0.0000e+00\n",
      "Epoch 91/100\n",
      "157/157 [==============================] - 0s 862us/step - loss: 9.0879e-11 - accuracy: 0.0000e+00\n",
      "Epoch 92/100\n",
      "157/157 [==============================] - 0s 888us/step - loss: 7.4718e-11 - accuracy: 0.0000e+00\n",
      "Epoch 93/100\n",
      "157/157 [==============================] - 0s 897us/step - loss: 6.1384e-11 - accuracy: 0.0000e+00\n",
      "Epoch 94/100\n",
      "157/157 [==============================] - 0s 897us/step - loss: 5.0460e-11 - accuracy: 0.0000e+00\n",
      "Epoch 95/100\n",
      "157/157 [==============================] - 0s 888us/step - loss: 4.1476e-11 - accuracy: 0.0000e+00\n",
      "Epoch 96/100\n",
      "157/157 [==============================] - 0s 942us/step - loss: 3.4060e-11 - accuracy: 0.0000e+00\n",
      "Epoch 97/100\n",
      "157/157 [==============================] - 0s 885us/step - loss: 2.7983e-11 - accuracy: 0.0000e+00\n",
      "Epoch 98/100\n",
      "157/157 [==============================] - 0s 894us/step - loss: 2.3040e-11 - accuracy: 0.0000e+00\n",
      "Epoch 99/100\n",
      "157/157 [==============================] - 0s 904us/step - loss: 1.8932e-11 - accuracy: 0.0000e+00\n",
      "Epoch 100/100\n",
      "157/157 [==============================] - 0s 910us/step - loss: 1.5615e-11 - accuracy: 0.0000e+00\n"
     ]
    },
    {
     "data": {
      "text/plain": "<keras.callbacks.History at 0x1f0423d4580>"
     },
     "execution_count": 5,
     "metadata": {},
     "output_type": "execute_result"
    }
   ],
   "source": [
    "model.compile(\n",
    "    loss=keras.losses.MeanSquaredError(),\n",
    "    optimizer=keras.optimizers.SGD(learning_rate=0.1),\n",
    "    metrics=['accuracy']\n",
    ")\n",
    "model.fit(input_data, targets, batch_size=32, epochs=100)"
   ],
   "metadata": {
    "collapsed": false,
    "pycharm": {
     "name": "#%%\n"
    }
   }
  },
  {
   "cell_type": "markdown",
   "source": [
    "Test output"
   ],
   "metadata": {
    "collapsed": false
   }
  },
  {
   "cell_type": "code",
   "execution_count": 6,
   "outputs": [
    {
     "name": "stdout",
     "output_type": "stream",
     "text": [
      "Prediction: 0.30\n"
     ]
    }
   ],
   "source": [
    "random_input = np.random.randn(1,5)\n",
    "out = tf.squeeze(model.predict(random_input)).numpy()\n",
    "print(\"Prediction: {:.2f}\".format(out))"
   ],
   "metadata": {
    "collapsed": false,
    "pycharm": {
     "name": "#%%\n"
    }
   }
  },
  {
   "cell_type": "markdown",
   "source": [
    "Print weights and biases"
   ],
   "metadata": {
    "collapsed": false
   }
  },
  {
   "cell_type": "code",
   "execution_count": 7,
   "outputs": [
    {
     "name": "stdout",
     "output_type": "stream",
     "text": [
      "Hidden Layer Weights: [[ 0.27414036 -0.77298546  0.04507711]\n",
      " [ 0.36226517 -0.42839095 -0.01976396]\n",
      " [-0.13650288 -0.5931793   0.4325761 ]\n",
      " [-0.4353182   0.09081988  0.2916697 ]\n",
      " [-0.41442424 -0.6994006   0.46793222]]\n",
      "Hidden Layer Biases: [-0.22373547  0.00153107  0.07740464]\n",
      "Final Layer Weights [[-4.1659579e-05]\n",
      " [-1.3281977e-05]\n",
      " [-4.0825154e-05]]\n",
      "Final Layer Biases: [-0.84726703]\n"
     ]
    }
   ],
   "source": [
    "hl_weight, hl_bias, fl_weight, fl_bias = model.get_weights()[0:4]\n",
    "print(\"Hidden Layer Weights:\", hl_weight)\n",
    "print(\"Hidden Layer Biases:\", hl_bias)\n",
    "print(\"Final Layer Weights\", fl_weight)\n",
    "print(\"Final Layer Biases:\", fl_bias)"
   ],
   "metadata": {
    "collapsed": false,
    "pycharm": {
     "name": "#%%\n"
    }
   }
  }
 ],
 "metadata": {
  "kernelspec": {
   "display_name": "Python 3",
   "language": "python",
   "name": "python3"
  },
  "language_info": {
   "codemirror_mode": {
    "name": "ipython",
    "version": 2
   },
   "file_extension": ".py",
   "mimetype": "text/x-python",
   "name": "python",
   "nbconvert_exporter": "python",
   "pygments_lexer": "ipython2",
   "version": "2.7.6"
  }
 },
 "nbformat": 4,
 "nbformat_minor": 0
}